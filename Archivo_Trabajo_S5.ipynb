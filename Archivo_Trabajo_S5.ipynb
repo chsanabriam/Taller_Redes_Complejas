{
  "nbformat": 4,
  "nbformat_minor": 0,
  "metadata": {
    "colab": {
      "provenance": [],
      "authorship_tag": "ABX9TyPz8RCLNr1GRfqX9TL8L840",
      "include_colab_link": true
    },
    "kernelspec": {
      "name": "python3",
      "display_name": "Python 3"
    },
    "language_info": {
      "name": "python"
    }
  },
  "cells": [
    {
      "cell_type": "markdown",
      "metadata": {
        "id": "view-in-github",
        "colab_type": "text"
      },
      "source": [
        "<a href=\"https://colab.research.google.com/github/chsanabriam/Taller_Redes_Complejas/blob/main/Archivo_Trabajo_S5.ipynb\" target=\"_parent\"><img src=\"https://colab.research.google.com/assets/colab-badge.svg\" alt=\"Open In Colab\"/></a>"
      ]
    },
    {
      "cell_type": "markdown",
      "source": [
        "# 2. Construcción de una red a partir de una matriz de adyacencia."
      ],
      "metadata": {
        "id": "UJ7hADekK3sG"
      }
    },
    {
      "cell_type": "code",
      "source": [
        "# Importar libreria\n",
        "import numpy as np"
      ],
      "metadata": {
        "id": "ktq4cataSmYD"
      },
      "execution_count": null,
      "outputs": []
    },
    {
      "cell_type": "code",
      "source": [
        "N = 5  # Número de nodos\n",
        "adj_matrix = np.zeros((N, N), dtype=int)"
      ],
      "metadata": {
        "id": "FKXwCQd1SqWm"
      },
      "execution_count": null,
      "outputs": []
    },
    {
      "cell_type": "code",
      "source": [
        "# Cresr las conexiones entre los nodos\n",
        "adj_matrix[0, 1] = 1  # Conexión del nodo 0 al nodo 1\n",
        "adj_matrix[1, 0] = 1  # Conexión del nodo 1 al nodo 0\n",
        "adj_matrix[2, 3] = 1  # Conexión del nodo 2 al nodo 3\n",
        "adj_matrix[3, 2] = 1  # Conexión del nodo 3 al nodo 2\n",
        "adj_matrix[1, 3] = 1  # Conexión del nodo 1 al nodo 3\n",
        "adj_matrix[3, 1] = 1  # Conexión del nodo 3 al nodo 1"
      ],
      "metadata": {
        "id": "YRan8BVGSwYz"
      },
      "execution_count": null,
      "outputs": []
    },
    {
      "cell_type": "code",
      "source": [
        "# Representación visual de la matriz\n",
        "import numpy as np\n",
        "import matplotlib.pyplot as plt\n",
        "%matplotlib inline\n",
        "plt.style.use('ggplot')\n",
        "\n",
        "\n",
        "plt.imshow(adj_matrix, cmap='binary', interpolation='nearest')\n",
        "plt.grid(False)\n",
        "plt.show()\n"
      ],
      "metadata": {
        "id": "hYGoh55IS1VA"
      },
      "execution_count": null,
      "outputs": []
    },
    {
      "cell_type": "code",
      "source": [
        "# Matriz no dirigida con enlaces aleatorios\n",
        "import numpy as np\n",
        "\n",
        "# Establecer la semilla para reproducibilidad\n",
        "np.random.seed(123)\n",
        "\n",
        "# Tamaño de la red\n",
        "N = 20\n",
        "\n",
        "# Crear una matriz de adyacencia vacía\n",
        "adj_matrix = np.zeros((N, N), dtype=int)\n",
        "\n",
        "# Generar conexiones aleatorias en la matriz de adyacencia\n",
        "for i in range(N):\n",
        "    for j in range(i + 1, N):  # Solo necesitamos establecer las conexiones por encima de la diagonal principal\n",
        "        # Generar un número aleatorio entre 0 y 1\n",
        "        random_num = np.random.randint(2)\n",
        "        \n",
        "        # Establecer la conexión en la matriz de adyacencia\n",
        "        adj_matrix[i, j] = random_num\n",
        "        adj_matrix[j, i] = random_num  # La red es no dirigida, por lo que la conexión también se establece en el sentido contrario\n",
        "\n",
        "# Imprimir la matriz de adyacencia\n",
        "print(adj_matrix)\n"
      ],
      "metadata": {
        "id": "v9ooAJsEYmXF"
      },
      "execution_count": null,
      "outputs": []
    },
    {
      "cell_type": "code",
      "source": [
        "# Representación visual de la matriz\n",
        "import matplotlib.pyplot as plt\n",
        "%matplotlib inline\n",
        "plt.style.use('ggplot')\n",
        "\n",
        "\n",
        "plt.imshow(adj_matrix, cmap='binary', interpolation='nearest')\n",
        "# Establecer los valores de los ejes x e y como enteros\n",
        "plt.xticks(np.arange(0, N, 1))\n",
        "plt.yticks(np.arange(0, N, 1))\n",
        "plt.grid(False)\n",
        "\n",
        "plt.show()\n"
      ],
      "metadata": {
        "id": "UtonZMgXY4KM"
      },
      "execution_count": null,
      "outputs": []
    },
    {
      "cell_type": "markdown",
      "source": [
        "## Ejercicio\n",
        "Con los conocimientos adquiridos construya una red dirigida de 50 nodos"
      ],
      "metadata": {
        "id": "dNv6zeC-dVIs"
      }
    },
    {
      "cell_type": "code",
      "source": [
        "# Escriba su código aquí"
      ],
      "metadata": {
        "id": "jTghPooPdiXy"
      },
      "execution_count": null,
      "outputs": []
    },
    {
      "cell_type": "markdown",
      "source": [
        "# 3. Análisis de propiedades de la red."
      ],
      "metadata": {
        "id": "LSzFKO0qK9BH"
      }
    },
    {
      "cell_type": "code",
      "source": [
        "# Grado de una red\n",
        "import numpy as np\n",
        "\n",
        "# Matriz de adyacencia\n",
        "adj_matrix = np.array([[0, 1, 1, 0],\n",
        "                       [1, 0, 1, 1],\n",
        "                       [1, 1, 0, 0],\n",
        "                       [0, 1, 0, 0]])\n",
        "\n",
        "# Cálculo del grado de los nodos\n",
        "degree = np.sum(adj_matrix, axis=1)\n",
        "\n",
        "# Imprimir el grado de los nodos\n",
        "print(degree)\n"
      ],
      "metadata": {
        "id": "JHIwvkZ-hJ4F"
      },
      "execution_count": null,
      "outputs": []
    },
    {
      "cell_type": "code",
      "source": [
        "# Camino más corto en una red a partir de un nodo origen.\n",
        "import numpy as np\n",
        "import math\n",
        "\n",
        "# Matriz de adyacencia\n",
        "    # Etiquetas nodos:  1. 2. 3. 4. 5. 6\n",
        "adj_matrix = np.array([[0, 2, 5, 0, 0, 8],\n",
        "                       [2, 0, 0, 1, 0, 0],\n",
        "                       [5, 0, 0, 1, 2, 0],\n",
        "                       [0, 1, 1, 0, 0, 5],\n",
        "                       [0, 0, 2, 0, 0, 1],\n",
        "                       [8, 0, 0, 5, 1, 0]])\n",
        "\n",
        "# Función para encontrar el nodo con la distancia mínima\n",
        "def min_distance(distances, visited):\n",
        "    min_dist = math.inf\n",
        "    min_node = -1\n",
        "    for node in range(len(distances)):\n",
        "        if not visited[node] and distances[node] < min_dist:\n",
        "            min_dist = distances[node]\n",
        "            min_node = node\n",
        "    return min_node\n",
        "\n",
        "# Función para calcular los caminos más cortos utilizando el algoritmo de Dijkstra\n",
        "def dijkstra(adj_matrix, source):\n",
        "    num_nodes = len(adj_matrix)\n",
        "    distances = [math.inf] * num_nodes\n",
        "    distances[source] = 0\n",
        "    visited = [False] * num_nodes\n",
        "\n",
        "    for _ in range(num_nodes):\n",
        "        current_node = min_distance(distances, visited)\n",
        "        visited[current_node] = True\n",
        "\n",
        "        for neighbor in range(num_nodes):\n",
        "            if not visited[neighbor] and adj_matrix[current_node][neighbor] != 0:\n",
        "                new_dist = distances[current_node] + adj_matrix[current_node][neighbor]\n",
        "                if new_dist < distances[neighbor]:\n",
        "                    distances[neighbor] = new_dist\n",
        "\n",
        "    return distances\n",
        "\n",
        "# Calcular los caminos más cortos desde el nodo fuente\n",
        "source_node = 0\n",
        "shortest_paths = dijkstra(adj_matrix, source_node)\n",
        "\n",
        "# Imprimir los caminos más cortos desde el nodo fuente\n",
        "# En el print se coloca source_node+1 y node+1 solo por la etiqueta del nodo.\n",
        "for node, distance in enumerate(shortest_paths):\n",
        "    print(f\"Distancia desde el nodo {source_node+1} al nodo {node+1}: {distance}\")\n"
      ],
      "metadata": {
        "id": "wCNu8yXQ_Q-g"
      },
      "execution_count": null,
      "outputs": []
    },
    {
      "cell_type": "code",
      "source": [
        "# Cálculo del coeficiente de clustering para cada nodo\n",
        "import numpy as np\n",
        "\n",
        "# Matriz de adyacencia\n",
        "adj_matrix = np.array([[0, 1, 1, 0],\n",
        "                       [1, 0, 1, 1],\n",
        "                       [1, 1, 0, 0],\n",
        "                       [0, 1, 0, 0]])\n",
        "\n",
        "# Cálculo del coeficiente de clustering para cada nodo\n",
        "num_nodes = adj_matrix.shape[0]\n",
        "clustering_coefficients = []\n",
        "\n",
        "for i in range(num_nodes):\n",
        "    neighbors = np.nonzero(adj_matrix[i])[0]  # Obtener los vecinos del nodo i\n",
        "    num_edges = np.sum(adj_matrix[neighbors][:, neighbors])/2  # Número de aristas entre los vecinos. Se divide entre dos porque hay un sobreconteo\n",
        "    if len(neighbors) == 1:\n",
        "      clustering_coefficient = 0\n",
        "      clustering_coefficients.append(clustering_coefficient)\n",
        "    else:\n",
        "      max_edges = len(neighbors) * (len(neighbors) - 1)  # Número máximo de aristas entre los vecinos\n",
        "      clustering_coefficient = 2 * num_edges / max_edges\n",
        "      clustering_coefficients.append(clustering_coefficient)\n",
        "\n",
        "# Imprimir el coeficiente de clustering para cada nodo\n",
        "for i, cc in enumerate(clustering_coefficients):\n",
        "    print(f\"Coeficiente de clustering del nodo {i}: {cc}\")\n"
      ],
      "metadata": {
        "id": "Zwd-3VGUbyRF"
      },
      "execution_count": null,
      "outputs": []
    },
    {
      "cell_type": "code",
      "source": [
        "# Cálculo del número de caminos de longitud 2 para la red de 5 nodos\n",
        "\n",
        "# Matriz de adyacencia\n",
        "adj_matrix = np.array([[0, 1, 0, 1, 0],\n",
        "                       [1, 0, 1, 0, 1],\n",
        "                       [0, 1, 0, 1, 0],\n",
        "                       [1, 0, 1, 0, 0],\n",
        "                       [0, 1, 0, 0, 0]])\n",
        "\n",
        "adj_matrix_2 = adj_matrix@adj_matrix\n",
        "print(adj_matrix_2)"
      ],
      "metadata": {
        "id": "z7DjJh-UoWFA"
      },
      "execution_count": null,
      "outputs": []
    },
    {
      "cell_type": "markdown",
      "source": [
        "# 4. Ejercicios prácticos."
      ],
      "metadata": {
        "id": "mNoV0PWkLCHI"
      }
    },
    {
      "cell_type": "markdown",
      "source": [
        "### 4.1 Ejericio 1\n",
        "Se tiene una red de 100 nodos representada en una matriz de adyacencia de la siguiente manera:\n",
        "\n",
        "```\n",
        "import numpy as np\n",
        "import matplotlib.pyplot as plt\n",
        "%matplotlib inline\n",
        "plt.style.use('ggplot')\n",
        "\n",
        "# Establecer la semilla para reproducibilidad\n",
        "np.random.seed(123)\n",
        "\n",
        "# Generar una matriz de adyacencia aleatoria para una red no dirigida\n",
        "adj_matrix = np.random.randint(2, size=(100, 100))\n",
        "```\n",
        "\n",
        "De acuerdo a esta matriz realice los siguientes puntos:\n",
        "1. Haga un gráfico de la matriz y responda en su opinión si la red es densa o no.\n",
        "2. Calcule el grado para cada nodo y luego calcule el grado promedio de la red. \n",
        "3. Encuentre el número total de caminos de longitud 2 que puede tener esta red.\n",
        "4. Encuentre el número total de caminos de longitud 3 que puede tener esta red."
      ],
      "metadata": {
        "id": "cCjopBErqGQG"
      }
    },
    {
      "cell_type": "code",
      "execution_count": null,
      "metadata": {
        "id": "6CxUUPyiLNQE"
      },
      "outputs": [],
      "source": [
        "# Escriba su código aquí"
      ]
    }
  ]
}