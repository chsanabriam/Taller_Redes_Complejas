{
  "nbformat": 4,
  "nbformat_minor": 0,
  "metadata": {
    "colab": {
      "provenance": [],
      "authorship_tag": "ABX9TyP06E4YsMuswK5InOCjn9sR",
      "include_colab_link": true
    },
    "kernelspec": {
      "name": "python3",
      "display_name": "Python 3"
    },
    "language_info": {
      "name": "python"
    }
  },
  "cells": [
    {
      "cell_type": "markdown",
      "metadata": {
        "id": "view-in-github",
        "colab_type": "text"
      },
      "source": [
        "<a href=\"https://colab.research.google.com/github/chsanabriam/Taller_Redes_Complejas/blob/main/Archivo_Trabajo_S6.ipynb\" target=\"_parent\"><img src=\"https://colab.research.google.com/assets/colab-badge.svg\" alt=\"Open In Colab\"/></a>"
      ]
    },
    {
      "cell_type": "markdown",
      "source": [
        "# 2. Creación de una red utilizando NetworkX."
      ],
      "metadata": {
        "id": "8xeJfcRizwhs"
      }
    },
    {
      "cell_type": "code",
      "source": [
        "import networkx as nx\n",
        "import matplotlib.pyplot as plt\n",
        "%matplotlib inline\n",
        "\n",
        "# Construir un grafo vacío\n",
        "G = nx.Graph()\n",
        "\n",
        "# Añadir nodos al grafo\n",
        "G.add_node(1)\n",
        "G.add_nodes_from([2, 3, 4])\n",
        "\n",
        "# Añadir aristas al grafo\n",
        "G.add_edge(1, 2)\n",
        "G.add_edges_from([(2, 3), (3, 4), (4, 1)])\n",
        "\n",
        "# Número total de nodos\n",
        "print(f\"Número total de nodos: {G.number_of_nodes()}\")\n",
        "\n",
        "# Número total de enlaces\n",
        "print(f\"Número total de enlaces: {G.number_of_edges()}\")\n",
        "\n",
        "\n",
        "# Visualizar el grafo\n",
        "nx.draw(G, with_labels=True)\n",
        "plt.show()\n"
      ],
      "metadata": {
        "id": "xkJDFvoj5haD"
      },
      "execution_count": null,
      "outputs": []
    },
    {
      "cell_type": "code",
      "source": [
        "# Creando un grafo a partir de un dataframe creando inicialmente un grafo vacio\n",
        "import pandas as pd\n",
        "import networkx as nx\n",
        "import matplotlib.pyplot as plt\n",
        "\n",
        "# Crear un DataFrame de ejemplo\n",
        "df = pd.DataFrame({'source': [1, 2, 3, 4],\n",
        "                   'target': [2, 3, 4, 1]})\n",
        "\n",
        "# Crear un grafo vacío\n",
        "G = nx.Graph()\n",
        "\n",
        "# Añadir las aristas al grafo utilizando los datos del DataFrame\n",
        "edges = df[['source', 'target']].values.tolist()\n",
        "G.add_edges_from(edges)\n",
        "\n",
        "# Visualizar el grafo\n",
        "nx.draw(G, with_labels=True)\n",
        "plt.show()\n"
      ],
      "metadata": {
        "id": "7GlzGsG38Stf"
      },
      "execution_count": null,
      "outputs": []
    },
    {
      "cell_type": "code",
      "source": [
        "# Creando un grafo a partir de un dataframe usando from_pandas_edgelist()\n",
        "import networkx as nx\n",
        "import matplotlib.pyplot as plt\n",
        "\n",
        "# Crear un DataFrame de ejemplo\n",
        "df = pd.DataFrame({'source': [1, 2, 3, 4],\n",
        "                   'target': [2, 3, 4, 1]})\n",
        "\n",
        "\n",
        "# Crear el grafo utilizando los datos del DataFrame\n",
        "# source y target sob las columnas en el dataframe que\n",
        "# identifican el origen y el destino del enlace.\n",
        "g = nx.from_pandas_edgelist(df, source='source', target='target')\n",
        "\n",
        "# Visualizar el grafo\n",
        "nx.draw(G, with_labels=True)\n",
        "plt.show()\n"
      ],
      "metadata": {
        "id": "XbpIBca59Lyx"
      },
      "execution_count": null,
      "outputs": []
    },
    {
      "cell_type": "markdown",
      "source": [
        "# 3. Análisis de propiedades de la red utilizando NetworkX.\n"
      ],
      "metadata": {
        "id": "6sUq78upz13x"
      }
    },
    {
      "cell_type": "code",
      "source": [
        "# Calculo de propiedades usando networkx\n",
        "import networkx as nx\n",
        "\n",
        "# Crear un grafo de ejemplo\n",
        "G = nx.Graph()\n",
        "G.add_edges_from([(1, 2), (1, 3), (2, 3), (2, 4)])\n",
        "\n",
        "# Calcular el grado de los nodos\n",
        "degree = nx.degree(G)\n",
        "print(\"Grado de los nodos:\", degree)\n",
        "\n",
        "# Calcular la centralidad de intermediación\n",
        "betweenness_centrality = nx.betweenness_centrality(G)\n",
        "print(\"Centralidad de intermediación:\", betweenness_centrality)\n",
        "\n",
        "# Calcular la centralidad de cercanía\n",
        "closeness_centrality = nx.closeness_centrality(G)\n",
        "print(\"Centralidad de cercanía:\", closeness_centrality)\n",
        "\n",
        "# Calcular la centralidad de grado\n",
        "degree_centrality = nx.degree_centrality(G)\n",
        "print(\"Centralidad de grado:\", degree_centrality)\n",
        "\n",
        "# Calcular la centralidad de autovector\n",
        "eigenvector_centrality = nx.eigenvector_centrality(G)\n",
        "print(\"Centralidad de autovector:\", eigenvector_centrality)\n",
        "\n",
        "# Calcular el coeficiente de agrupamiento\n",
        "clustering_coefficient = nx.clustering(G)\n",
        "print(\"Coeficiente de clustering:\", clustering_coefficient)\n"
      ],
      "metadata": {
        "id": "wxzF_x3_CSLM"
      },
      "execution_count": null,
      "outputs": []
    },
    {
      "cell_type": "markdown",
      "source": [
        "# 4. Visualización avanzada de la red."
      ],
      "metadata": {
        "id": "LEvCRupNz6Ha"
      }
    },
    {
      "cell_type": "code",
      "source": [
        "import networkx as nx\n",
        "import matplotlib.pyplot as plt\n",
        "%matplotlib inline\n",
        "plt.style.use('ggplot')\n",
        "\n",
        "# Crear un grafo de ejemplo\n",
        "G = nx.Graph()\n",
        "G.add_edges_from([(1, 2), (2, 3), (3, 4), (4, 1)])\n",
        "\n",
        "# Personalizar la apariencia de los nodos y aristas\n",
        "node_color = 'blue'\n",
        "node_size = 300\n",
        "edge_color = 'gray'\n",
        "edge_width = 2\n",
        "\n",
        "# Utilizar el algoritmo de disposición spring layout\n",
        "pos = nx.spring_layout(G)\n",
        "\n",
        "# Dibujar la red con las personalizaciones y la disposición mejorada\n",
        "nx.draw_networkx(G, pos, node_color=node_color, node_size=node_size, edge_color=edge_color, width=edge_width)\n",
        "\n",
        "# Mostrar la visualización\n",
        "plt.axis('off')\n",
        "plt.show()\n"
      ],
      "metadata": {
        "id": "eK6D_bQEHjSO"
      },
      "execution_count": null,
      "outputs": []
    },
    {
      "cell_type": "markdown",
      "source": [
        "# 5. Ejercicio práctico\n",
        "## Análisis de la red de Facebook\n",
        "J. McAuley and J. Leskovec. Learning to Discover Social Circles in Ego Networks. NIPS, 2012."
      ],
      "metadata": {
        "id": "OwLeV5wJ0Gc2"
      }
    },
    {
      "cell_type": "code",
      "execution_count": null,
      "metadata": {
        "id": "ByiI4645yWZU"
      },
      "outputs": [],
      "source": [
        "# Importando los datos\n",
        "!wget https://github.com/chsanabriam/Taller_Redes_Complejas/raw/main/Insumos_Taller/facebook_combined.txt.gz"
      ]
    },
    {
      "cell_type": "code",
      "source": [
        "# Importamos las librerias\n",
        "import pandas as pd\n",
        "import numpy as np\n",
        "import networkx as nx\n",
        "import matplotlib.pyplot as plt\n",
        "%matplotlib inline\n",
        "plt.style.use('ggplot')\n",
        "from random import randint"
      ],
      "metadata": {
        "id": "kBSJdkIJNAvX"
      },
      "execution_count": null,
      "outputs": []
    },
    {
      "cell_type": "code",
      "source": [
        "# Los enlaces se cargan desde la carpeta y se guardan en un dataframe. \n",
        "# Cada enlace es una nueva fila y para cada enlace hay una start_node y una end_node columna\n",
        "facebook = pd.read_csv(\n",
        "    \"facebook_combined.txt.gz\",\n",
        "    compression=\"gzip\",\n",
        "    sep=\" \",\n",
        "    names=[\"start_node\", \"end_node\"],\n",
        ")\n",
        "facebook.head()"
      ],
      "metadata": {
        "id": "pS7gcJyHNas5"
      },
      "execution_count": null,
      "outputs": []
    },
    {
      "cell_type": "code",
      "source": [
        "# Revisemos el dataframe\n",
        "facebook.info()"
      ],
      "metadata": {
        "id": "DUAQKbX0N44x"
      },
      "execution_count": null,
      "outputs": []
    },
    {
      "cell_type": "markdown",
      "source": [
        "#### Creación del Grafo\n",
        "El grafo se crea a partir del dataframe de aristas de Facebook."
      ],
      "metadata": {
        "id": "HzHqOCWdPpCn"
      }
    },
    {
      "cell_type": "code",
      "source": [
        "G = nx.from_pandas_edgelist(facebook, \"start_node\", \"end_node\")"
      ],
      "metadata": {
        "id": "y6CXBOyyOdKL"
      },
      "execution_count": null,
      "outputs": []
    },
    {
      "cell_type": "markdown",
      "source": [
        "#### Visualización del grafo\n",
        "Comencemos nuestra exploración visualizando el grafo. La visualización desempeña un papel central en el análisis exploratorio de datos para ayudar a obtener una comprensión cualitativa de los datos.\n",
        "\n",
        "Dado que no tenemos una idea real de la estructura de los datos, comencemos por ver el grafo con `random_layout`, que es una de las funciones de distribución más rápidas."
      ],
      "metadata": {
        "id": "7lpZ9AmiP49b"
      }
    },
    {
      "cell_type": "code",
      "source": [
        "fig, ax = plt.subplots(figsize=(15, 9))\n",
        "ax.axis(\"off\")\n",
        "plot_options = {\"node_size\": 10, \"with_labels\": False, \"width\": 0.15}\n",
        "nx.draw_networkx(G, pos=nx.random_layout(G), ax=ax, **plot_options)"
      ],
      "metadata": {
        "id": "jrRUSAJ1Pszb"
      },
      "execution_count": null,
      "outputs": []
    },
    {
      "cell_type": "markdown",
      "source": [
        "La imagen resultante no es muy útil. Las visualizaciones gráficas de este tipo a veces se denominan coloquialmente \"bolas de pelo\" debido a los bordes superpuestos que resultan en un enredo confuso.\n",
        "\n",
        "Es evidente que necesitamos imponer más estructura en la disposición de los elementos si queremos obtener una idea de los datos. Para esto, podemos utilizar la función spring_layout, que es la función de disposición predeterminada del módulo de dibujo networkx. La función spring_layout tiene la ventaja de que tiene en cuenta los nodos y las aristas para calcular las ubicaciones de los nodos. Sin embargo, la desventaja es que este proceso es mucho más costoso computacionalmente y puede ser bastante lento para grafos con cientos de nodos y miles de aristas.\n",
        "\n",
        "Dado que nuestro conjunto de datos tiene más de 80 mil aristas, limitaremos el número de iteraciones utilizadas en la función spring_layout para reducir el tiempo de cálculo. También guardaremos la disposición calculada para poder utilizarla en futuras visualizaciones."
      ],
      "metadata": {
        "id": "2MJBmrS1RZ9e"
      }
    },
    {
      "cell_type": "code",
      "source": [
        "pos = nx.spring_layout(G, iterations=15, seed=1721)\n",
        "fig, ax = plt.subplots(figsize=(15, 9))\n",
        "ax.axis(\"off\")\n",
        "nx.draw_networkx(G, pos=pos, ax=ax, **plot_options)"
      ],
      "metadata": {
        "id": "cPpvMx_hRZfE"
      },
      "execution_count": null,
      "outputs": []
    },
    {
      "cell_type": "markdown",
      "source": [
        "Esta visualización es mucho más útil que la anterior! Ya podemos deducir algo sobre la estructura de la red; por ejemplo, muchos de los nodos parecen estar altamente conectados, como cabría esperar en una red social. También nos damos cuenta de que los nodos tienden a formar grupos. El `spring_layout`\n",
        " sirve para proporcionar una idea cualitativa de clustering, pero no está diseñado para un análisis de clustering cuantitativo y repetible. Volveremos a evaluar el clustering de la red más adelante en el análisis."
      ],
      "metadata": {
        "id": "XL5iKGXISLPv"
      }
    },
    {
      "cell_type": "markdown",
      "source": [
        "#### Atributos básicos topológicos\n"
      ],
      "metadata": {
        "id": "l4ofQZ5aSuEJ"
      }
    },
    {
      "cell_type": "code",
      "source": [
        "# Total de nodos"
      ],
      "metadata": {
        "id": "ApOic_lCQRap"
      },
      "execution_count": null,
      "outputs": []
    },
    {
      "cell_type": "code",
      "source": [
        "# Total de enlaces"
      ],
      "metadata": {
        "id": "dUN-ufamTtWT"
      },
      "execution_count": null,
      "outputs": []
    },
    {
      "cell_type": "code",
      "source": [
        "# Grado promedio de la red"
      ],
      "metadata": {
        "id": "RcZbgHGUT9nx"
      },
      "execution_count": null,
      "outputs": []
    },
    {
      "cell_type": "markdown",
      "source": [
        "Existen muchas propiedades interesantes relacionadas con la distribución de caminos a través del grafo. Por ejemplo, el diámetro de un grafo representa la longitud del camino más largo entre dos nodos en el grafo. De manera similar, la longitud promedio de los caminos proporciona una medida del número promedio de aristas que se deben recorrer para ir de un nodo a otro en la red. Estos atributos se pueden calcular utilizando las funciones `nx.diameter` y `nx.average_shortest_path_length`, respectivamente. Sin embargo, es importante tener en cuenta que estos análisis requieren calcular el camino más corto entre cada par de nodos en la red, lo cual puede ser bastante costoso para redes de este tamaño. Dado que estamos interesados en varios análisis que involucran la longitud del camino más corto para todos los nodos en la red, podemos calcular esto una vez y reutilizar la información para ahorrar tiempo de computación.\n",
        "\n",
        "Comencemos calculando la longitud del camino más corto para todos los pares de nodos en la red:"
      ],
      "metadata": {
        "id": "ZR_Bugq6WLqg"
      }
    },
    {
      "cell_type": "code",
      "source": [
        "shortest_path_lengths = dict(nx.all_pairs_shortest_path_length(G))"
      ],
      "metadata": {
        "id": "pU7Fe0LMUeSl"
      },
      "execution_count": null,
      "outputs": []
    },
    {
      "cell_type": "markdown",
      "source": [
        "La función `nx.all_pairs_shortest_path_length` devuelve un diccionario de diccionarios que asigna un nodo $u$ a todos los demás nodos en la red, donde el mapeo más interno devuelve la longitud del camino más corto entre los dos nodos. En otras palabras, `shortest_path_lengths[u][v]` devolverá la longitud del camino más corto entre cualquier par de nodos $u$ y $v$."
      ],
      "metadata": {
        "id": "Js6gPhzNWuI8"
      }
    },
    {
      "cell_type": "code",
      "source": [
        "shortest_path_lengths[0][42]  # Longitud del camino más corto entre los nodos 0 y 42"
      ],
      "metadata": {
        "id": "kHRxIxLiWdqG"
      },
      "execution_count": null,
      "outputs": []
    },
    {
      "cell_type": "markdown",
      "source": [
        "Ahora vamos a utilizar `shortest_path_lengths` para realizar nuestros análisis, comenzando con el diámetro de $G$. Si observamos detenidamente la cadena de documentación para `nx.diameter`, veremos que es equivalente a la excentricidad máxima del grafo. Resulta que `nx.eccentricity` tiene un argumento opcional `sp` donde podemos pasar nuestros `shortest_path_lengths` precalculados para ahorrar el cálculo adicional:"
      ],
      "metadata": {
        "id": "K6k7sfCvXMaB"
      }
    },
    {
      "cell_type": "code",
      "source": [
        "# Esto es equivalente al diametro `diameter = nx.diameter(G), pero mucho más eficiente desde que\n",
        "# reusemos los precalculados shortest path lengths!\n",
        "diameter = max(nx.eccentricity(G, sp=shortest_path_lengths).values())\n",
        "diameter"
      ],
      "metadata": {
        "id": "tNc5GnHGXJCj"
      },
      "execution_count": null,
      "outputs": []
    },
    {
      "cell_type": "markdown",
      "source": [
        "Para conectar desde un nodo a cualquier otro, tendríamos que atravesar 8 aristas o menos.\n",
        "\n",
        "A continuación, se encuentra la longitud promedio del camino. Una vez más, podríamos usar `nx.average_shortest_path_length` para calcular esto directamente, pero es mucho más eficiente utilizar `shortest_path_length` que ya hemos calculado previamente."
      ],
      "metadata": {
        "id": "RLtPtym3YLE4"
      }
    },
    {
      "cell_type": "code",
      "source": [
        "# Calcular la longitud promedio de camino para cada nodo.\n",
        "average_path_lengths = [\n",
        "    np.mean(list(spl.values())) for spl in shortest_path_lengths.values()\n",
        "]\n",
        "# The average over all nodes\n",
        "np.mean(average_path_lengths)"
      ],
      "metadata": {
        "id": "RVLqkjVTX8wB"
      },
      "execution_count": null,
      "outputs": []
    },
    {
      "cell_type": "markdown",
      "source": [
        "Esto representa el promedio de la longitud del camino más corto para todos los pares de nodos: en promedio, se recorrerán aproximadamente 3.6 aristas para llegar de un nodo a otro.\n",
        "\n",
        "Las medidas anteriores capturan información útil sobre la red, pero las métricas como el valor promedio representan solo un momento de la distribución; también suele ser valioso observar la distribución en sí misma. Una vez más, podemos construir una visualización de la distribución de las longitudes de camino más cortas a partir de nuestro diccionario precomputado de diccionarios."
      ],
      "metadata": {
        "id": "WzWRRpOFZJ8u"
      }
    },
    {
      "cell_type": "code",
      "source": [
        "# Conocemos la longitud máxima del camino más corto (el diámetro), así que crea \n",
        "# un arreglo para almacenar valores desde 0 hasta (e incluyendo) el diámetro.\n",
        "path_lengths = np.zeros(diameter + 1, dtype=int)\n",
        "\n",
        "# Extrae la frecuencia de las longitudes de camino más cortas entre dos nodos.\n",
        "for pls in shortest_path_lengths.values():\n",
        "    pl, cnts = np.unique(list(pls.values()), return_counts=True)\n",
        "    path_lengths[pl] += cnts\n",
        "\n",
        "# Expresar la distribución de frecuencias como porcentaje (ignorando las longitudes de camino igual a 0).\n",
        "freq_percent = 100 * path_lengths[1:] / path_lengths[1:].sum()\n",
        "\n",
        "# Graficar la distribución de frecuencia (ignorando las longitudes de camino de 0) como porcentaje.\n",
        "fig, ax = plt.subplots(figsize=(15, 8))\n",
        "ax.bar(np.arange(1, diameter + 1), height=freq_percent)\n",
        "ax.set_title(\n",
        "    \"Distribución de la longitud de camino más corto n G\", fontdict={\"size\": 35}, loc=\"center\"\n",
        ")\n",
        "ax.set_xlabel(\"Shortest Path Length\", fontdict={\"size\": 22})\n",
        "ax.set_ylabel(\"Frequency (%)\", fontdict={\"size\": 22})"
      ],
      "metadata": {
        "id": "Ewa_vAW4YuJS"
      },
      "execution_count": null,
      "outputs": []
    },
    {
      "cell_type": "markdown",
      "source": [
        "La mayoría de las longitudes de los caminos más cortos oscilan entre 2 y 5 aristas. Además, es muy improbable que un par de nodos tenga un camino más corto de longitud 8 (longitud del diámetro), ya que la probabilidad es inferior al 0,1 %."
      ],
      "metadata": {
        "id": "yWi-20t8byV-"
      }
    },
    {
      "cell_type": "code",
      "source": [
        "# Densidad del grafo"
      ],
      "metadata": {
        "id": "3s9kb8LDZVE1"
      },
      "execution_count": null,
      "outputs": []
    },
    {
      "cell_type": "code",
      "source": [
        "# Número de componentes"
      ],
      "metadata": {
        "id": "sNsqPo7PcPxs"
      },
      "execution_count": null,
      "outputs": []
    },
    {
      "cell_type": "markdown",
      "source": [
        "Como se esperaba la red tiene una componente gigante."
      ],
      "metadata": {
        "id": "Gke2juRBcazI"
      }
    },
    {
      "cell_type": "markdown",
      "source": [
        "#### Medidas de centralidad"
      ],
      "metadata": {
        "id": "w8XFH5v5c0YI"
      }
    },
    {
      "cell_type": "markdown",
      "source": [
        "**Centralidad de grado**\n",
        "La centralidad de grado asigna una puntuación de importancia basada simplemente en el número de enlaces que posee cada nodo. En este análisis, esto significa que cuanto mayor sea la centralidad de grado de un nodo, más aristas están conectadas a dicho nodo y, por lo tanto, más nodos vecinos (amigos de Facebook) tiene este nodo. De hecho, la centralidad de grado de un nodo es la fracción de nodos a los que está conectado. En otras palabras, es el porcentaje de la red al que el nodo en particular está conectado, es decir, tener amigos.\n",
        "\n",
        "* Comenzando, encontramos los nodos con las centralidades de grado más altas. Específicamente, a continuación se muestran los nodos con las 8 centralidades de grado más altas, junto con la centralidad de grado correspondiente:\n"
      ],
      "metadata": {
        "id": "-Suaj4wWeS_m"
      }
    },
    {
      "cell_type": "code",
      "execution_count": null,
      "metadata": {
        "id": "3Zmbs20pzm2R"
      },
      "outputs": [],
      "source": [
        "degree_centrality = nx.centrality.degree_centrality(\n",
        "    G\n",
        ")  # save results in a variable to use again\n",
        "(sorted(degree_centrality.items(), key=lambda item: item[1], reverse=True))[:8]"
      ]
    },
    {
      "cell_type": "markdown",
      "source": [
        "Eso significa que el nodo 107 tiene la centralidad de grado más alta con 0.259, lo que significa que este usuario de Facebook es amigo de aproximadamente el 26% de toda la red. De manera similar, los nodos 1684, 1912, 3437 y 0 también tienen centralidades de grado muy altas. Sin embargo, eso es algo esperado, ya que esos nodos son aquellos círculos de amigos de Facebook que examinamos. Muy interesante es el hecho de que los nodos 2543, 2347 y 1888 tienen algunas de las 8 centralidades de grado más altas, a pesar de que no investigamos sus círculos. En otras palabras, esos tres nodos son muy populares entre los círculos que estamos examinando ahora, lo que significa que tienen la mayoría de amigos de Facebook dentro de esta red, aparte de los nodos destacados.\n",
        "\n",
        "Ahora también podemos ver el número de vecinos para los nodos con las centralidades de grado más altas."
      ],
      "metadata": {
        "id": "5ngXsaJ5gQM4"
      }
    },
    {
      "cell_type": "code",
      "source": [
        "(sorted(G.degree, key=lambda item: item[1], reverse=True))[:8]"
      ],
      "metadata": {
        "id": "xWxA5JeQcgl9"
      },
      "execution_count": null,
      "outputs": []
    },
    {
      "cell_type": "markdown",
      "source": [
        "Como se esperaba, el nodo 107 tiene 1045 amigos en Facebook, lo cual es la cifra más alta entre todos los usuarios de Facebook en este análisis. Además, los nodos 1684 y 1912 tienen más de 750 amigos en Facebook en esta red. Asimismo, los nodos 3437 y 0 tienen el siguiente mayor número de amigos en Facebook en esta red, con 547 y 347 respectivamente. Por último, los dos amigos más populares de los nodos destacados tienen alrededor de 290 amigos en Facebook en esta red.\n",
        "\n",
        "Ahora se graficará la distribución de la centralidad de grado."
      ],
      "metadata": {
        "id": "NUWzJRWyhgqy"
      }
    },
    {
      "cell_type": "code",
      "source": [
        "plt.figure(figsize=(15, 8))\n",
        "plt.hist(degree_centrality.values(), bins=25)\n",
        "plt.xticks(ticks=[0, 0.025, 0.05, 0.1, 0.15, 0.2])  # set the x axis ticks\n",
        "plt.title(\"Histograma de centralidad de grado \", fontdict={\"size\": 35}, loc=\"center\")\n",
        "plt.xlabel(\"Degree Centrality\", fontdict={\"size\": 20})\n",
        "plt.ylabel(\"Counts\", fontdict={\"size\": 20})"
      ],
      "metadata": {
        "id": "2M2CiO20goiN"
      },
      "execution_count": null,
      "outputs": []
    },
    {
      "cell_type": "markdown",
      "source": [
        "Es notorio que la gran mayoría de los usuarios de Facebook tienen centralidades de grado inferiores a 0.05. De hecho, la mayoría tiene menos de 0.0125. En realidad, esto tiene sentido porque la red consiste en listas de amigos de nodos particulares, que obviamente son los que tienen las centralidades de grado más altas. En otras palabras, debido a que solo se utilizaron las listas de amigos de nodos particulares para crear esta red en particular, muchos nodos tienen centralidades de grado extremadamente bajas, ya que no están muy interconectados en esta red.\n",
        "\n",
        "Ahora veamos a los usuarios con las centralidades de grado más altas según el tamaño de sus nodos:"
      ],
      "metadata": {
        "id": "-NB_1M0qiVob"
      }
    },
    {
      "cell_type": "code",
      "source": [
        "node_size = [\n",
        "    v * 1000 for v in degree_centrality.values()\n",
        "]  # set up nodes size for a nice graph representation\n",
        "plt.figure(figsize=(15, 8))\n",
        "nx.draw_networkx(G, pos=pos, node_size=node_size, with_labels=False, width=0.15)\n",
        "plt.axis(\"off\")"
      ],
      "metadata": {
        "id": "LxeoO8kEh4au"
      },
      "execution_count": null,
      "outputs": []
    },
    {
      "cell_type": "code",
      "source": [],
      "metadata": {
        "id": "M8TVH6DwezuM"
      },
      "execution_count": null,
      "outputs": []
    }
  ]
}