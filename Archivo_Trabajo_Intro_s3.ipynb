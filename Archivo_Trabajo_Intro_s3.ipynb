{
  "nbformat": 4,
  "nbformat_minor": 0,
  "metadata": {
    "colab": {
      "provenance": [],
      "authorship_tag": "ABX9TyOx0wSpAsdwqRZ6mMrEupuj",
      "include_colab_link": true
    },
    "kernelspec": {
      "name": "python3",
      "display_name": "Python 3"
    },
    "language_info": {
      "name": "python"
    }
  },
  "cells": [
    {
      "cell_type": "markdown",
      "metadata": {
        "id": "view-in-github",
        "colab_type": "text"
      },
      "source": [
        "<a href=\"https://colab.research.google.com/github/chsanabriam/Taller_Redes_Complejas/blob/main/Archivo_Trabajo_Intro_s3.ipynb\" target=\"_parent\"><img src=\"https://colab.research.google.com/assets/colab-badge.svg\" alt=\"Open In Colab\"/></a>"
      ]
    },
    {
      "cell_type": "markdown",
      "source": [
        "# 1. Análisis exploratorio de datos con Pandas: estadísticas descriptivas."
      ],
      "metadata": {
        "id": "98DVcVh-yUF9"
      }
    },
    {
      "cell_type": "code",
      "source": [
        "# Estadisticas descriptivas básicas\n",
        "import pandas as pd\n",
        "\n",
        "# Crear el DataFrame con los datos\n",
        "data = {'estado': ['California', 'Texas', 'Florida', 'Nueva York', 'Illinois'],\n",
        "        'poblacion': [39538223, 29145505, 21538187, 19530351, 12812508],\n",
        "        'area_km2': [423970, 695662, 170312, 122056, 149997],\n",
        "        'densidad_poblacion': [93.4, 41.9, 126.4, 159.6, 85.5]}\n",
        "df = pd.DataFrame(data)\n",
        "\n",
        "# Estadísticas descriptivas\n",
        "estadisticas = df.describe()\n",
        "print(estadisticas)\n"
      ],
      "metadata": {
        "id": "ATOZiaDoyyL2"
      },
      "execution_count": null,
      "outputs": []
    },
    {
      "cell_type": "code",
      "source": [
        "# Calcular la matriz de correlación\n",
        "correlacion = df.corr(numeric_only=True)\n",
        "\n",
        "print(correlacion)"
      ],
      "metadata": {
        "id": "N7du_FsEzkbo"
      },
      "execution_count": null,
      "outputs": []
    },
    {
      "cell_type": "markdown",
      "source": [
        "# 2. Tratamiento de valores faltantes en un DataFrame."
      ],
      "metadata": {
        "id": "PHDwh0yNyV1c"
      }
    },
    {
      "cell_type": "code",
      "source": [
        "import pandas as pd\n",
        "import numpy as np\n",
        "\n",
        "# Crear el DataFrame con valores faltantes\n",
        "data = {'A': [1, 2, np.nan, 4, 5],\n",
        "        'B': [np.nan, 6, 7, np.nan, 9],\n",
        "        'C': [10, np.nan, 12, 13, 14]}\n",
        "df = pd.DataFrame(data)"
      ],
      "metadata": {
        "id": "NIs38WQc1VUL"
      },
      "execution_count": null,
      "outputs": []
    },
    {
      "cell_type": "code",
      "source": [
        "# Identificación de valores faltantes\n",
        "valores_faltantes = df.isnull()\n",
        "print(\"Valores faltantes:\")\n",
        "print(valores_faltantes)\n"
      ],
      "metadata": {
        "id": "IWR3fyqy1bfW"
      },
      "execution_count": null,
      "outputs": []
    },
    {
      "cell_type": "code",
      "source": [
        "# Eliminación de filas o columnas con valores faltantes\n",
        "df_sin_nulos = df.dropna()\n",
        "print(\"\\nDataFrame sin valores faltantes:\") # Estilos del gráfico\n",
        "print(df_sin_nulos)"
      ],
      "metadata": {
        "id": "y6EMgale1ek6"
      },
      "execution_count": null,
      "outputs": []
    },
    {
      "cell_type": "code",
      "source": [
        "# Relleno de valores faltantes\n",
        "df_rellenado = df.fillna(0)\n",
        "print(\"\\nDataFrame con valores faltantes rellenados:\")\n",
        "print(df_rellenado)\n"
      ],
      "metadata": {
        "id": "CHZpY6UL1NQU"
      },
      "execution_count": null,
      "outputs": []
    },
    {
      "cell_type": "markdown",
      "source": [
        "# 3. Visualización de datos con Matplotlib: gráficos de línea, dispersión y barras."
      ],
      "metadata": {
        "id": "S0kJHRTnyaeE"
      }
    },
    {
      "cell_type": "code",
      "source": [
        "import numpy as np\n",
        "import matplotlib.pyplot as plt\n",
        "# linea para poder hacer plot en el notebook\n",
        "%matplotlib inline \n",
        " # Estilos del gráfico\n",
        "plt.style.use('ggplot')\n",
        "\n",
        "# Datos para los gráficos\n",
        "x = np.array([1, 2, 3, 4, 5])\n",
        "y = np.array([3, 5, 2, 7, 4])"
      ],
      "metadata": {
        "id": "lVN166vF8E1E"
      },
      "execution_count": null,
      "outputs": []
    },
    {
      "cell_type": "code",
      "source": [
        "# Gráfico de línea\n",
        "plt.figure()\n",
        "plt.plot(x, y)\n",
        "plt.title('Gráfico de línea')\n",
        "\n",
        "# Mostrar los gráficos\n",
        "plt.show()"
      ],
      "metadata": {
        "id": "bdlgEMm55PVq"
      },
      "execution_count": null,
      "outputs": []
    },
    {
      "cell_type": "code",
      "source": [
        "# Gráfico de dispersión\n",
        "plt.figure()\n",
        "plt.scatter(x, y)\n",
        "plt.title('Gráfico de dispersión')\n",
        "\n",
        "# Mostrar los gráficos\n",
        "plt.show()"
      ],
      "metadata": {
        "id": "v-7J2AM_5Ski"
      },
      "execution_count": null,
      "outputs": []
    },
    {
      "cell_type": "code",
      "source": [
        "# Gráfico de barras\n",
        "plt.figure()\n",
        "plt.bar(x, y)\n",
        "plt.title('Gráfico de barras')\n",
        "\n",
        "# Mostrar los gráficos\n",
        "plt.show()\n"
      ],
      "metadata": {
        "id": "Z9mDCXxH4xzx"
      },
      "execution_count": null,
      "outputs": []
    },
    {
      "cell_type": "markdown",
      "source": [
        "# 4. Personalización de gráficos: títulos, etiquetas, leyendas, colores, etc."
      ],
      "metadata": {
        "id": "UP1rDGh2yhC6"
      }
    },
    {
      "cell_type": "code",
      "source": [
        "import numpy as np\n",
        "import matplotlib.pyplot as plt\n",
        "# linea para poder hacer plot en el notebook\n",
        "%matplotlib inline \n",
        "# Estilos del gráfico\n",
        "plt.style.use('ggplot')\n",
        "\n",
        "# Datos para los gráficos\n",
        "x = np.array([1, 2, 3, 4, 5])\n",
        "y = np.array([3, 5, 2, 7, 4])"
      ],
      "metadata": {
        "id": "38FnC0-M63iA"
      },
      "execution_count": null,
      "outputs": []
    },
    {
      "cell_type": "code",
      "source": [
        "# Gráfico de línea\n",
        "plt.figure()\n",
        "plt.plot(x, y, color='blue', linestyle='--', label='Línea')\n",
        "plt.legend()\n",
        "plt.title('Gráfico de línea')\n",
        "plt.xlabel('Eje x')\n",
        "plt.ylabel('Eje y')\n",
        "\n",
        "# Mostrar los gráficos\n",
        "plt.show()"
      ],
      "metadata": {
        "id": "9Mu7OKz76-_G"
      },
      "execution_count": null,
      "outputs": []
    },
    {
      "cell_type": "code",
      "source": [
        "# Gráfico de dispersión\n",
        "plt.figure()\n",
        "plt.scatter(x, y, color='red')\n",
        "plt.title('Gráfico de dispersión')\n",
        "plt.xlabel('Eje x')\n",
        "plt.ylabel('Eje y')\n",
        "\n",
        "# Mostrar los gráficos\n",
        "plt.show()"
      ],
      "metadata": {
        "id": "KSebhPwo7Ons"
      },
      "execution_count": null,
      "outputs": []
    },
    {
      "cell_type": "code",
      "source": [
        "# Gráfico de barras\n",
        "plt.figure()\n",
        "plt.bar(x, y, color='green')\n",
        "plt.title('Gráfico de barras')\n",
        "plt.xlabel('Eje x')\n",
        "plt.ylabel('Eje y')\n",
        "\n",
        "# Mostrar los gráficos\n",
        "plt.show()\n"
      ],
      "metadata": {
        "id": "ln8Q2SCY6qZw"
      },
      "execution_count": null,
      "outputs": []
    },
    {
      "cell_type": "markdown",
      "source": [
        "# 5. Creación de subgráficos (subplots) en una figura."
      ],
      "metadata": {
        "id": "09anwokGymwL"
      }
    },
    {
      "cell_type": "code",
      "source": [
        "import numpy as np\n",
        "import matplotlib.pyplot as plt\n",
        "# linea para poder hacer plot en el notebook\n",
        "%matplotlib inline \n",
        "# Estilos del gráfico\n",
        "plt.style.use('ggplot')\n",
        "\n",
        "# Datos para los gráficos\n",
        "x = np.linspace(0, 10, 100)\n",
        "y1 = np.sin(x)\n",
        "y2 = np.cos(x)\n",
        "\n",
        "# Crear una figura con subgráficos\n",
        "fig, ax = plt.subplots(nrows=2, ncols=2)\n",
        "\n",
        "# Acceder a un subgráfico específico y trazar un gráfico\n",
        "ax[0, 0].plot(x, y1)\n",
        "ax[0, 0].set_title('Sin(x)')\n",
        "ax[0, 0].set_xlabel('Eje x')\n",
        "ax[0, 0].set_ylabel('Eje y')\n",
        "\n",
        "# Acceder a otro subgráfico y trazar otro gráfico\n",
        "ax[0, 1].plot(x, y2)\n",
        "ax[0, 1].set_title('Cos(x)')\n",
        "ax[0, 1].set_xlabel('Eje x')\n",
        "ax[0, 1].set_ylabel('Eje y')\n",
        "\n",
        "# Personalizar otro subgráfico y trazar otro gráfico\n",
        "ax[1, 0].plot(x, y1 + y2)\n",
        "ax[1, 0].set_title('Sin(x) + Cos(x)')\n",
        "ax[1, 0].set_xlabel('Eje x')\n",
        "ax[1, 0].set_ylabel('Eje y')\n",
        "\n",
        "# Personalizar el último subgráfico y trazar otro gráfico\n",
        "ax[1, 1].plot(x, y1 * y2)\n",
        "ax[1, 1].set_title('Sin(x)*Cos(x)')\n",
        "ax[1, 1].set_xlabel('Eje x')\n",
        "ax[1, 1].set_ylabel('Eje y')\n",
        "\n",
        "# Ajustar el diseño de los subgráficos\n",
        "plt.tight_layout()\n",
        "\n",
        "# Mostrar la figura con los subgráficos\n",
        "plt.show()\n"
      ],
      "metadata": {
        "id": "hU24AV7C-Y6q"
      },
      "execution_count": null,
      "outputs": []
    },
    {
      "cell_type": "markdown",
      "source": [
        "# 6. Guardado de gráficos en diferentes formatos."
      ],
      "metadata": {
        "id": "YycDLH4jyrSw"
      }
    },
    {
      "cell_type": "code",
      "execution_count": null,
      "metadata": {
        "id": "t7doKQz6Po1I"
      },
      "outputs": [],
      "source": [
        "import numpy as np\n",
        "import matplotlib.pyplot as plt\n",
        "# linea para poder hacer plot en el notebook\n",
        "%matplotlib inline \n",
        "# Estilos del gráfico\n",
        "plt.style.use('ggplot')\n",
        "\n",
        "# Datos para los gráficos\n",
        "x = np.linspace(0, 10, 100)\n",
        "y1 = np.sin(x)\n",
        "y2 = np.cos(x)\n",
        "\n",
        "# Crear una figura con subgráficos\n",
        "fig, ax = plt.subplots(nrows=2, ncols=2)\n",
        "\n",
        "# Acceder a un subgráfico específico y trazar un gráfico\n",
        "ax[0, 0].plot(x, y1)\n",
        "ax[0, 0].set_title('Sin(x)')\n",
        "ax[0, 0].set_xlabel('Eje x')\n",
        "ax[0, 0].set_ylabel('Eje y')\n",
        "\n",
        "# Acceder a otro subgráfico y trazar otro gráfico\n",
        "ax[0, 1].plot(x, y2)\n",
        "ax[0, 1].set_title('Cos(x)')\n",
        "ax[0, 1].set_xlabel('Eje x')\n",
        "ax[0, 1].set_ylabel('Eje y')\n",
        "\n",
        "# Personalizar otro subgráfico y trazar otro gráfico\n",
        "ax[1, 0].plot(x, y1 + y2)\n",
        "ax[1, 0].set_title('Sin(x) + Cos(x)')\n",
        "ax[1, 0].set_xlabel('Eje x')\n",
        "ax[1, 0].set_ylabel('Eje y')\n",
        "\n",
        "# Personalizar el último subgráfico y trazar otro gráfico\n",
        "ax[1, 1].plot(x, y1 * y2)\n",
        "ax[1, 1].set_title('Sin(x)*Cos(x)')\n",
        "ax[1, 1].set_xlabel('Eje x')\n",
        "ax[1, 1].set_ylabel('Eje y')\n",
        "\n",
        "# Ajustar el diseño de los subgráficos\n",
        "plt.tight_layout()\n",
        "\n",
        "# Guardar imagen como PNG en alta rsolución\n",
        "# El valor por defecto del DPI (puntos por pulgada) en matplotlib es 100\n",
        "plt.savefig('imagen.png', dpi=300)\n",
        "\n",
        "# Mostrar la figura con los subgráficos\n",
        "plt.show()\n"
      ]
    },
    {
      "cell_type": "code",
      "source": [
        "import numpy as np\n",
        "import matplotlib.pyplot as plt\n",
        "# linea para poder hacer plot en el notebook\n",
        "%matplotlib inline \n",
        "# Estilos del gráfico\n",
        "plt.style.use('ggplot')\n",
        "\n",
        "# Datos para el gráfico\n",
        "x = np.linspace(0, 10, 100)\n",
        "y = np.sin(x)\n",
        "\n",
        "# Crear el gráfico\n",
        "plt.figure(figsize=(8,6))\n",
        "plt.plot(x, y)\n",
        "plt.title('Gráfico de ejemplo')\n",
        "plt.xlabel('Eje x')\n",
        "plt.ylabel('Eje y')\n",
        "\n",
        "# Guardar la imagen con dimensiones personalizadas\n",
        "plt.savefig('grafico_personalizado.png', dpi=300, bbox_inches='tight')\n",
        "\n",
        "# Mostrar el gráfico\n",
        "plt.show()\n"
      ],
      "metadata": {
        "id": "hf323YixAy0E"
      },
      "execution_count": null,
      "outputs": []
    }
  ]
}