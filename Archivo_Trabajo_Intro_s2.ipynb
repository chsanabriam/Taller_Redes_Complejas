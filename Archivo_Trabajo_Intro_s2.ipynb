{
  "nbformat": 4,
  "nbformat_minor": 0,
  "metadata": {
    "colab": {
      "provenance": [],
      "authorship_tag": "ABX9TyOM+0NTmsIB5B0Y8CvMXCPx",
      "include_colab_link": true
    },
    "kernelspec": {
      "name": "python3",
      "display_name": "Python 3"
    },
    "language_info": {
      "name": "python"
    }
  },
  "cells": [
    {
      "cell_type": "markdown",
      "metadata": {
        "id": "view-in-github",
        "colab_type": "text"
      },
      "source": [
        "<a href=\"https://colab.research.google.com/github/chsanabriam/Taller_Redes_Complejas/blob/main/Archivo_Trabajo_Intro_s2.ipynb\" target=\"_parent\"><img src=\"https://colab.research.google.com/assets/colab-badge.svg\" alt=\"Open In Colab\"/></a>"
      ]
    },
    {
      "cell_type": "markdown",
      "source": [
        "# 2. Estructuras de datos en Pandas: Series y DataFrames."
      ],
      "metadata": {
        "id": "SdVeYt6mdvdY"
      }
    },
    {
      "cell_type": "code",
      "execution_count": null,
      "metadata": {
        "id": "ZIEIXzPEdqa1"
      },
      "outputs": [],
      "source": [
        "import pandas as pd\n",
        "\n",
        "serie = pd.Series([1, 2, 3, 4, 5])\n"
      ]
    },
    {
      "cell_type": "markdown",
      "source": [
        "# 3. Carga de datos desde archivos CSV a un DataFrame."
      ],
      "metadata": {
        "id": "jhRFLXl8xuGF"
      }
    },
    {
      "cell_type": "code",
      "source": [
        "# Obtener archivo de una fuente externa\n",
        "!wget https://github.com/chsanabriam/Taller_Redes_Complejas/raw/main/Insumos_Taller/stent30.csv"
      ],
      "metadata": {
        "id": "ZLtRL5UzqT4m"
      },
      "execution_count": null,
      "outputs": []
    },
    {
      "cell_type": "code",
      "source": [
        "# Abrir archivo usando pandas\n",
        "import pandas as pd\n",
        "\n",
        "df = pd.read_csv('stent30.csv')"
      ],
      "metadata": {
        "id": "d5iHWvL6YiFp"
      },
      "execution_count": null,
      "outputs": []
    },
    {
      "cell_type": "markdown",
      "source": [
        "# 4. Exploración y manipulación de datos en un DataFrame."
      ],
      "metadata": {
        "id": "-CIWUxxgx5H2"
      }
    },
    {
      "cell_type": "code",
      "source": [
        "# head\n",
        "df.head()"
      ],
      "metadata": {
        "id": "3Dw0SrC4aC_n"
      },
      "execution_count": null,
      "outputs": []
    },
    {
      "cell_type": "code",
      "source": [
        "# info\n",
        "df.info()"
      ],
      "metadata": {
        "id": "-F0GtQHobnLl"
      },
      "execution_count": null,
      "outputs": []
    },
    {
      "cell_type": "code",
      "source": [
        "# describe\n",
        "df.describe()"
      ],
      "metadata": {
        "id": "2rco88-Obpfb"
      },
      "execution_count": null,
      "outputs": []
    },
    {
      "cell_type": "code",
      "source": [
        "# columna\n",
        "df['outcome']"
      ],
      "metadata": {
        "id": "AwrJzHqQbvfL"
      },
      "execution_count": null,
      "outputs": []
    },
    {
      "cell_type": "code",
      "source": [
        "# Agregar una nueva columna calculada\n",
        "df['nueva_columna'] = df['group'] + df['outcome']\n",
        "\n",
        "# Imprimir el DataFrame resultante\n",
        "print(df)"
      ],
      "metadata": {
        "id": "B21DRpfHb0-j"
      },
      "execution_count": null,
      "outputs": []
    },
    {
      "cell_type": "markdown",
      "source": [
        "# 5. Selección y filtrado de datos en un DataFrame."
      ],
      "metadata": {
        "id": "RPTMAVxMx_8K"
      }
    },
    {
      "cell_type": "code",
      "source": [
        "# Seleccionar una fila por etiqueta\n",
        "etiqueta_fila = 2\n",
        "fila_seleccionada = df.loc[etiqueta_fila]\n",
        "\n",
        "# Imprimir la fila seleccionada\n",
        "print(fila_seleccionada)"
      ],
      "metadata": {
        "id": "mjCFBEa4crN8"
      },
      "execution_count": null,
      "outputs": []
    },
    {
      "cell_type": "code",
      "source": [
        "# Seleccionar una fila por índice\n",
        "indice_fila = 3\n",
        "fila_seleccionada = df.iloc[indice_fila]\n",
        "\n",
        "# Imprimir la fila seleccionada\n",
        "print(fila_seleccionada)"
      ],
      "metadata": {
        "id": "T863HwgIdIHi"
      },
      "execution_count": null,
      "outputs": []
    },
    {
      "cell_type": "code",
      "source": [
        "# Filtrar por una condición\n",
        "condicion = df['outcome'] == 'stroke'\n",
        "filas_filtradas = df[condicion]\n",
        "\n",
        "# Imprimir las filas filtradas\n",
        "print(filas_filtradas)"
      ],
      "metadata": {
        "id": "xWjWEg-dewTz"
      },
      "execution_count": null,
      "outputs": []
    },
    {
      "cell_type": "code",
      "source": [
        "# Filtrar por varias condiciones\n",
        "condicion = (df['group'] == 'treatment') & (df['outcome'] == 'no event')\n",
        "filas_filtradas = df[condicion]\n",
        "\n",
        "# Imprimir las filas filtradas\n",
        "print(filas_filtradas)"
      ],
      "metadata": {
        "id": "_I2bFFzAfHxX"
      },
      "execution_count": null,
      "outputs": []
    },
    {
      "cell_type": "markdown",
      "source": [
        "# 6. Operaciones comunes en Pandas: agregación, combinación y ordenamiento."
      ],
      "metadata": {
        "id": "hJlAP1l3yH01"
      }
    },
    {
      "cell_type": "code",
      "source": [
        "import pandas as pd\n",
        "\n",
        "# Crear el DataFrame\n",
        "data = {'group': ['A', 'B', 'A', 'B', 'A'],\n",
        "        'value': [10, 15, 8, 12, 9]}\n",
        "df = pd.DataFrame(data)"
      ],
      "metadata": {
        "id": "kKuILFtckdq8"
      },
      "execution_count": null,
      "outputs": []
    },
    {
      "cell_type": "code",
      "source": [
        "# Agregación: Calcular los valores de promedio, suma, máximo y mínimo.\n",
        "promedio_valor = df['value'].mean()\n",
        "suma_valor = df['value'].sum()\n",
        "max_valor = df['value'].max()\n",
        "min_valor = df['value'].min()\n",
        "\n",
        "print(f\"Valor promedio: {promedio_valor}\")\n",
        "print(f\"Suma: {suma_valor}\")\n",
        "print(f\"Máximo: {max_valor}\")\n",
        "print(f\"Mínimo: {min_valor}\")"
      ],
      "metadata": {
        "id": "aH273lOukkd0"
      },
      "execution_count": null,
      "outputs": []
    },
    {
      "cell_type": "code",
      "source": [
        "# Agregación: Calcular la suma de los valores por grupo\n",
        "suma_por_grupo = df.groupby('group')['value'].sum()\n",
        "print(\"Suma por grupo:\")\n",
        "print(suma_por_grupo)"
      ],
      "metadata": {
        "id": "MAY9y67vkoEd"
      },
      "execution_count": null,
      "outputs": []
    },
    {
      "cell_type": "code",
      "source": [
        "# Combinación: Unir dos DataFrames por columna común\n",
        "data2 = {'group': ['A', 'B', 'C'],\n",
        "         'value2': [5, 3, 7]}\n",
        "df2 = pd.DataFrame(data2)\n",
        "\n",
        "combinado = pd.merge(df, df2, on='group')\n",
        "print(\"DataFrame combinado:\")\n",
        "print(combinado)"
      ],
      "metadata": {
        "id": "MfvIHzk1kraM"
      },
      "execution_count": null,
      "outputs": []
    },
    {
      "cell_type": "code",
      "source": [
        "# Realizar el join\n",
        "joined = df.join(df2.set_index('group'), on='group')\n",
        "\n",
        "# Imprimir el resultado\n",
        "print(joined)"
      ],
      "metadata": {
        "id": "nCsvuEZ3lTpo"
      },
      "execution_count": null,
      "outputs": []
    },
    {
      "cell_type": "code",
      "execution_count": null,
      "metadata": {
        "id": "nE-DuNbja2T7"
      },
      "outputs": [],
      "source": [
        "# Ordenamiento: Ordenar el DataFrame por una columna\n",
        "ordenado = df.sort_values('value', ascending=False)\n",
        "print(\"DataFrame ordenado:\")\n",
        "print(ordenado)\n"
      ]
    },
    {
      "cell_type": "markdown",
      "source": [
        "# Ejercicio: Análisis de resultados de las elecciones presidenciales en Estados Unidos (2008)\n",
        "\n",
        "Se proporciona un conjunto de datos que contiene información sobre los resultados de las elecciones presidenciales en Estados Unidos para el año 2008. El conjunto de datos está representado en forma de DataFrame y contiene las siguientes columnas:\n",
        "\n",
        "* state: Abreviatura del estado.\n",
        "* state_full: Nombre completo del estado.\n",
        "* n_obama: Número de votos obtenidos por Barack Obama.\n",
        "* p_obama: Proporción de votos obtenidos por Barack Obama.\n",
        "* n_mc_cain: Número de votos obtenidos por John McCain.\n",
        "* p_mc_cain: Proporción de votos obtenidos por John McCain.\n",
        "* el_votes: Número de votos electorales asignados a cada estado.\n",
        "\n",
        "Realice un análisis y manipulación de los datos utilizando la biblioteca Pandas, y responda a las siguientes preguntas:\n",
        "\n",
        "1. Exploración de datos:\n",
        "\n",
        "* Mostrar la información general del DataFrame, incluyendo el tipo de datos de cada columna y el número de observaciones.\n",
        "\n",
        "2. Selección y filtrado de datos:\n",
        "\n",
        "* Seleccionar las filas del DataFrame donde la proporción de votos para Barack Obama sea mayor a 50%.\n",
        "\n",
        "3. Operaciones comunes en Pandas:\n",
        "\n",
        "* Calcular la suma total de votos obtenidos por Barack Obama en todos los estados.\n",
        "* Calcular el promedio de votos electorales asignados a los estados.\n",
        "* Ordenar el DataFrame en función del número de votos obtenidos por Barack Obama, de mayor a menor.\n",
        "\n",
        "Escribir el código en Python utilizando la biblioteca Pandas para realizar estas operaciones y mostrar los resultados."
      ],
      "metadata": {
        "id": "H4FNYXUpmlLi"
      }
    },
    {
      "cell_type": "code",
      "source": [
        "# Traer el archivo con los resultados\n",
        "!wget https://github.com/chsanabriam/Taller_Redes_Complejas/raw/main/Insumos_Taller/prrace08.csv"
      ],
      "metadata": {
        "id": "aB4aucIEldpq"
      },
      "execution_count": null,
      "outputs": []
    },
    {
      "cell_type": "code",
      "source": [
        "# 1. Exploración de datos:"
      ],
      "metadata": {
        "id": "7vb7d6tpd_Wx"
      },
      "execution_count": null,
      "outputs": []
    },
    {
      "cell_type": "code",
      "source": [
        "# 2. Selección y filtrado de datos:"
      ],
      "metadata": {
        "id": "D92KDo9Br4uv"
      },
      "execution_count": null,
      "outputs": []
    },
    {
      "cell_type": "code",
      "source": [
        "# 3. Operaciones comunes en Pandas:"
      ],
      "metadata": {
        "id": "Sjb7U6ILr8bR"
      },
      "execution_count": null,
      "outputs": []
    }
  ]
}