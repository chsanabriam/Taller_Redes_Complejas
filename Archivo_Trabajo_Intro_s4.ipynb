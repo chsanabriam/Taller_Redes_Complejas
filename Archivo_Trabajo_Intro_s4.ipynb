{
  "nbformat": 4,
  "nbformat_minor": 0,
  "metadata": {
    "colab": {
      "provenance": [],
      "authorship_tag": "ABX9TyPdHFQNILaa6CprAYI1eK4M",
      "include_colab_link": true
    },
    "kernelspec": {
      "name": "python3",
      "display_name": "Python 3"
    },
    "language_info": {
      "name": "python"
    }
  },
  "cells": [
    {
      "cell_type": "markdown",
      "metadata": {
        "id": "view-in-github",
        "colab_type": "text"
      },
      "source": [
        "<a href=\"https://colab.research.google.com/github/chsanabriam/Taller_Redes_Complejas/blob/main/Archivo_Trabajo_Intro_s4.ipynb\" target=\"_parent\"><img src=\"https://colab.research.google.com/assets/colab-badge.svg\" alt=\"Open In Colab\"/></a>"
      ]
    },
    {
      "cell_type": "markdown",
      "source": [
        "# Ejercicio: Análisis y visualización de datos del COVID-19 en Estados Unidos\n",
        "\n",
        "Descripción del problema:\n",
        "Tienes acceso a un archivo CSV que contiene datos sobre los casos y las muertes acumulativas por COVID-19 en los Estados Unidos a nivel estatal. El objetivo es cargar y analizar estos datos utilizando NumPy y Pandas, y luego visualizar la información utilizando Matplotlib.\n",
        "\n",
        "Pasos a seguir:\n",
        "\n",
        "1. Carga los datos del archivo CSV en un DataFrame de Pandas.\n",
        "2. Utiliza NumPy para calcular las siguientes estadísticas descriptivas:\n",
        "<ol type='a'>\n",
        "  <li>Calcula la media, mediana, desviación estándar y rango de los casos y las muertes acumulativas.\n",
        "  </li>\n",
        "  <li>Encuentra el estado con el mayor número de casos acumulativos y el estado con el menor número de muertes acumulativas.\n",
        "  </li>\n",
        "</ol>\n",
        "3. Manipula y analiza los datos en pandas para responder las siguientes preguntas:\n",
        "<ol = type='a'>\n",
        "  <li> ¿Cuál es el número total de casos confirmados y muertes reportadas hasta la fecha más reciente?\n",
        "  </li>\n",
        "  <li>¿Cuál es el estado con el mayor número de casos y muertes acumulativas?\n",
        "  </li>\n",
        "  <li>Calcula el promedio de casos y muertes por día.\n",
        "  </li>\n",
        "</ol>\n",
        "4. Utiliza Matplotlib para crear gráficos que muestren la evolución temporal de los casos y las muertes acumulativas.\n",
        "<ol = type='a'>\n",
        "  <li>Crea un gráfico de línea que muestre la cantidad de casos confirmados a lo largo del tiempo.\n",
        "  </li>\n",
        "  <li> Crea un gráfico de línea que muestre la cantidad de muertes reportadas a lo largo del tiempo.\n",
        "  </li>\n",
        "  <li>Personaliza los gráficos agregando títulos, etiquetas de ejes y leyendas.\n",
        "  </li>\n",
        "</ol>\n",
        "5. Crea subgráficos (subplots) utilizando Matplotlib para visualizar la información:\n",
        "<ol = type='a'>\n",
        "  <li>Crea un gráfico de barras que muestre el número total de casos acumulativos por estado, para el Top 10 de estados.\n",
        "  </li>\n",
        "  <li>Crea un gráfico de barras que muestre el número total de muertes acumulativas por estado, para el Top 10 de estados.\n",
        "  </li>\n",
        "  <li>Personaliza los subgráficos agregando títulos, etiquetas de ejes y leyendas.\n",
        "  </li>\n",
        "</ol>\n"
      ],
      "metadata": {
        "id": "B90QH7cffSlp"
      }
    },
    {
      "cell_type": "code",
      "execution_count": null,
      "metadata": {
        "id": "q0431yypfG6I"
      },
      "outputs": [],
      "source": [
        "# Traer los datos para trabajar (fuente: NY Times)\n",
        "!wget https://github.com/nytimes/covid-19-data/archive/refs/heads/master.zip"
      ]
    },
    {
      "cell_type": "code",
      "source": [
        "# Descomprimir archivo master.zip\n",
        "!unzip master.zip"
      ],
      "metadata": {
        "id": "1RiPhdVxfdna"
      },
      "execution_count": null,
      "outputs": []
    },
    {
      "cell_type": "code",
      "source": [
        "# 1. Carga los datos del archivo CSV en un DataFrame de Pandas.\n",
        "import pandas as pd\n",
        "\n",
        "df_us =  pd.read_csv('covid-19-data-master/us-states.csv')"
      ],
      "metadata": {
        "id": "Ctcrr6jffrpQ"
      },
      "execution_count": null,
      "outputs": []
    },
    {
      "cell_type": "code",
      "source": [
        "# 2. Utiliza NumPy para calcular las siguientes estadísticas descriptivas"
      ],
      "metadata": {
        "id": "pU2kYThu2g72"
      },
      "execution_count": null,
      "outputs": []
    },
    {
      "cell_type": "code",
      "source": [
        "# 3. Manipula y analiza los datos para responder las siguientes preguntas"
      ],
      "metadata": {
        "id": "zOBdoentfsq1"
      },
      "execution_count": null,
      "outputs": []
    },
    {
      "cell_type": "code",
      "source": [
        "# 4. Utiliza Matplotlib para crear gráficos que muestren la evolución temporal de los casos y las muertes acumulativas"
      ],
      "metadata": {
        "id": "sv4kIWYYf21P"
      },
      "execution_count": null,
      "outputs": []
    },
    {
      "cell_type": "code",
      "source": [
        "# 5. Crea subgráficos (subplots) utilizando Matplotlib para visualizar la información"
      ],
      "metadata": {
        "id": "6gIu-mSv2naJ"
      },
      "execution_count": null,
      "outputs": []
    }
  ]
}