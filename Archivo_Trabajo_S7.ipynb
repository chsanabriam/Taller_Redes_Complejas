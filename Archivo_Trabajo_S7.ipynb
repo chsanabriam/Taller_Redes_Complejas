{
  "nbformat": 4,
  "nbformat_minor": 0,
  "metadata": {
    "colab": {
      "provenance": [],
      "authorship_tag": "ABX9TyNvstq+DF1DXF8xk6fU+Eob",
      "include_colab_link": true
    },
    "kernelspec": {
      "name": "python3",
      "display_name": "Python 3"
    },
    "language_info": {
      "name": "python"
    }
  },
  "cells": [
    {
      "cell_type": "markdown",
      "metadata": {
        "id": "view-in-github",
        "colab_type": "text"
      },
      "source": [
        "<a href=\"https://colab.research.google.com/github/chsanabriam/Taller_Redes_Complejas/blob/main/Archivo_Trabajo_S7.ipynb\" target=\"_parent\"><img src=\"https://colab.research.google.com/assets/colab-badge.svg\" alt=\"Open In Colab\"/></a>"
      ]
    },
    {
      "cell_type": "markdown",
      "source": [
        "# 1. Analizar datasets de información transaccional y de composición empresarial.\n",
        "\n",
        "Este ejercicio tiene el siguiente contexto:\n",
        "\n",
        "Empresa manufacturera del sector textiles que se dedica a la producción y venta de productos de alta calidad. Cuenta con más de 10 años de experiencia en el mercado y se ha expandido a nivel internacional, razón por la cual tiene clientes de diferentes nacionalidades. La empresa tiene una amplia variedad de productos que abarcan desde bienes de consumo hasta equipos y maquinaria industrial. Entre sus actividades económicas se encuentran la fabricación, el diseño, la distribución y la venta de productos a nivel nacional e internacional.\n",
        "\n",
        "La empresa cuenta con dos bases de datos una transaccional y otra de composición.\n",
        "\n",
        "La base transaccional tiene los siguientes campos:\n",
        "\n",
        "| Variable               | Descripción                                                            |\n",
        "|------------------------|------------------------------------------------------------------------|\n",
        "| ID_Cliente             | Número de identificación del cliente                                    |\n",
        "| Nombre_Cliente         | Nombre completo del cliente registrado en los registros de la empresa   |\n",
        "| Nacionalidad           | País de origen del cliente                                              |\n",
        "| Tipo_Transacción       | Tipo de transacción si es exportaciones o importaciones                 |\n",
        "| Pais_Origen            | País donde se originó la transacción                                    |\n",
        "| Pais_Destino           | País donde se recibió el pago de la transacción                         |\n",
        "| Fecha_Transacción      | Fecha en que se realizó la transacción                                  |\n",
        "| Monto_Transacción      | Valor monetario de la transacción realizada por el cliente              |\n",
        "| Producto/Servicio      | Descripción del producto o servicio adquirido por el cliente            |\n",
        "| Cantidad               | Cantidad del producto o servicio adquirido                              |\n",
        "| Forma_Pago_Transacción | Forma de pago utilizada en la transacción                               |\n",
        "| Moneda                 | Tipo de moneda utilizada para realizar la transacción                   |\n",
        "| Numero_Cuenta          | Número de cuenta bancaria utilizada para realizar la transacción        |\n",
        "| Titular_Cuenta         | Nombre del titular de la cuenta bancaria                                |\n",
        "\n",
        "\n",
        "Por otro lado la base de composición tiene una estructura similar a la siguiente:\n",
        "\n",
        "| Empresa    | Nombre         | Tipo                  | Porcentaje (%) |\n",
        "|------------|----------------|-----------------------|-----------------|\n",
        "| ASN LLC    | Andres Araujo  | Representante Legal   |                 |\n",
        "|            | Sandra Borja   | Socio                 | 90              |\n",
        "|            | Niles Smith    | Socio                 | 10              |\n",
        "\n",
        "La idea del ejercicio es realizar un análisis sobre esta información y encontrar en caso de que exista alguna posible situación de riesgo. "
      ],
      "metadata": {
        "id": "bWewekRtUyKx"
      }
    },
    {
      "cell_type": "markdown",
      "source": [
        "Descargar los archivos.\n",
        "Nota: Los archivos están en encoding `utf8` y tienen como separador `|`"
      ],
      "metadata": {
        "id": "y5fP7WGtXO24"
      }
    },
    {
      "cell_type": "code",
      "source": [
        "!wget https://github.com/chsanabriam/Taller_Redes_Complejas/raw/main/Insumos_Taller/info_transacciones_empresa.csv"
      ],
      "metadata": {
        "id": "w72aMeyMW8Bd"
      },
      "execution_count": null,
      "outputs": []
    },
    {
      "cell_type": "code",
      "source": [
        "!wget https://github.com/chsanabriam/Taller_Redes_Complejas/raw/main/Insumos_Taller/info_composicion_clientes.csv"
      ],
      "metadata": {
        "id": "H-Fqztt8XHJC"
      },
      "execution_count": null,
      "outputs": []
    },
    {
      "cell_type": "markdown",
      "source": [
        "# 2. Construcción de una red utilizando NetworkX."
      ],
      "metadata": {
        "id": "DaMlfJw5U37m"
      }
    },
    {
      "cell_type": "markdown",
      "source": [
        "# 3. Análisis de propiedades de la red utilizando NetworkX."
      ],
      "metadata": {
        "id": "pejw13SAU7b0"
      }
    },
    {
      "cell_type": "markdown",
      "source": [
        "# 4. Visualización avanzada de la red."
      ],
      "metadata": {
        "id": "RMB2XSHhVAgg"
      }
    },
    {
      "cell_type": "markdown",
      "source": [
        "# 5. Conclusiones frente al ejercicio."
      ],
      "metadata": {
        "id": "9Sag54YvVFcS"
      }
    },
    {
      "cell_type": "code",
      "source": [],
      "metadata": {
        "id": "-0rCJpVdX8C9"
      },
      "execution_count": null,
      "outputs": []
    }
  ]
}