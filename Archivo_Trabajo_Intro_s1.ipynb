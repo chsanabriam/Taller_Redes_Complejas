{
  "nbformat": 4,
  "nbformat_minor": 0,
  "metadata": {
    "colab": {
      "provenance": [],
      "authorship_tag": "ABX9TyMerc+TgN1hP9vSCVAAl+DY",
      "include_colab_link": true
    },
    "kernelspec": {
      "name": "python3",
      "display_name": "Python 3"
    },
    "language_info": {
      "name": "python"
    }
  },
  "cells": [
    {
      "cell_type": "markdown",
      "metadata": {
        "id": "view-in-github",
        "colab_type": "text"
      },
      "source": [
        "<a href=\"https://colab.research.google.com/github/chsanabriam/Taller_Redes_Complejas/blob/main/Archivo_Trabajo_Intro_s1.ipynb\" target=\"_parent\"><img src=\"https://colab.research.google.com/assets/colab-badge.svg\" alt=\"Open In Colab\"/></a>"
      ]
    },
    {
      "cell_type": "markdown",
      "source": [
        "#1. Introducción a Python y su sintaxis básica."
      ],
      "metadata": {
        "id": "pFNkKSdM81FZ"
      }
    },
    {
      "cell_type": "code",
      "execution_count": null,
      "metadata": {
        "id": "0IDLbKJi8q5T"
      },
      "outputs": [],
      "source": [
        "# Declaración de variables\n",
        "nombre = \"Ana\"\n",
        "edad = 25\n",
        "altura = 1.75\n",
        "es_estudiante = True"
      ]
    },
    {
      "cell_type": "code",
      "source": [
        "# Impresión de valores\n",
        "nombre = \"Ana\"\n",
        "edad = 25\n",
        "print(\"Hola, mi nombre es\", nombre, \"y tengo\", edad, \"años.\")\n",
        "print(f\"Hola, mi nombre es {nombre} y tengo {edad} años.\")"
      ],
      "metadata": {
        "id": "FpRXCSkB89Xj"
      },
      "execution_count": null,
      "outputs": []
    },
    {
      "cell_type": "code",
      "source": [
        "# Esto es un comentario de una sola línea\n",
        "\n",
        "\"\"\"\n",
        "Este es un comentario de\n",
        "varias líneas.\n",
        "\"\"\""
      ],
      "metadata": {
        "id": "CnIdg4Nv9B5Q"
      },
      "execution_count": null,
      "outputs": []
    },
    {
      "cell_type": "code",
      "source": [
        "# Convenciones de nombres\n",
        "mi_variable = 10\n",
        "def miFuncion():\n",
        "    pass"
      ],
      "metadata": {
        "id": "W5XGvPzK9E4V"
      },
      "execution_count": null,
      "outputs": []
    },
    {
      "cell_type": "markdown",
      "source": [
        "#2. Variables, tipos de datos y operadores en Python"
      ],
      "metadata": {
        "id": "8nlCezFX9Qfw"
      }
    },
    {
      "cell_type": "code",
      "source": [
        "edad = 25"
      ],
      "metadata": {
        "id": "TzSQMEgs9TfZ"
      },
      "execution_count": null,
      "outputs": []
    },
    {
      "cell_type": "code",
      "source": [
        "altura = 1.75"
      ],
      "metadata": {
        "id": "fIizXe9Z9YTu"
      },
      "execution_count": null,
      "outputs": []
    },
    {
      "cell_type": "code",
      "source": [
        "nombre = 'Ana'\n",
        "mensaje = \"Hola, ¿cómo estás?\""
      ],
      "metadata": {
        "id": "7fX1zW6P9a94"
      },
      "execution_count": null,
      "outputs": []
    },
    {
      "cell_type": "code",
      "source": [
        "es_estudiante = True"
      ],
      "metadata": {
        "id": "hu9F56K49eNW"
      },
      "execution_count": null,
      "outputs": []
    },
    {
      "cell_type": "code",
      "source": [
        "numeros = [1, 2, 3, 4, 5]"
      ],
      "metadata": {
        "id": "4iFy6PmG9iZB"
      },
      "execution_count": null,
      "outputs": []
    },
    {
      "cell_type": "code",
      "source": [
        "colores = ('rojo', 'verde', 'azul')"
      ],
      "metadata": {
        "id": "vI96927S9lFi"
      },
      "execution_count": null,
      "outputs": []
    },
    {
      "cell_type": "code",
      "source": [
        "numeros = {1, 2, 3, 4, 5}"
      ],
      "metadata": {
        "id": "0EK0lTNg9mLd"
      },
      "execution_count": null,
      "outputs": []
    },
    {
      "cell_type": "code",
      "source": [
        "persona = {'nombre': 'Ana', 'edad': 25, 'altura': 1.75}"
      ],
      "metadata": {
        "id": "O724-QXp9rSP"
      },
      "execution_count": null,
      "outputs": []
    },
    {
      "cell_type": "code",
      "source": [
        "# Declaración de variables de diferentes tipos\n",
        "edad = 25\n",
        "altura = 1.75\n",
        "nombre = \"Ana\"\n",
        "es_estudiante = True\n",
        "\n",
        "# Operaciones aritméticas\n",
        "suma = edad + 5\n",
        "division = altura / 2"
      ],
      "metadata": {
        "id": "EIEsPVl89v04"
      },
      "execution_count": null,
      "outputs": []
    },
    {
      "cell_type": "code",
      "source": [
        "# Operadores // y %\n",
        "dividendo = 17\n",
        "divisor = 4\n",
        "\n",
        "cociente = dividendo // divisor  # División entera -> resultado 4\n",
        "resto = dividendo % divisor  # Resto de la división (modulo) -> resultado 1"
      ],
      "metadata": {
        "id": "xWTiy7QP9zaE"
      },
      "execution_count": null,
      "outputs": []
    },
    {
      "cell_type": "markdown",
      "source": [
        "# 3. Estructuras de control: condicionales (if-else) y bucles (for, while)."
      ],
      "metadata": {
        "id": "wrrU8JqD99Ef"
      }
    },
    {
      "cell_type": "code",
      "source": [
        "# Ejemplo if else\n",
        "x = 17\n",
        "if x <= 20:\n",
        "    print('x es menor o igual que 20')\n",
        "else:\n",
        "    print('x es mayor que 20')\n"
      ],
      "metadata": {
        "id": "2u3ylfeD94xM"
      },
      "execution_count": null,
      "outputs": []
    },
    {
      "cell_type": "code",
      "source": [
        "# Ejemplo if elif else\n",
        "x = 28\n",
        "if x < 0:\n",
        "    print(f'{x} es menor que 0')\n",
        "elif x > 0:\n",
        "    print(f'{x} es mayor que 0')\n",
        "else:\n",
        "    print('x es 0')"
      ],
      "metadata": {
        "id": "FS_nhnl_98K_"
      },
      "execution_count": null,
      "outputs": []
    },
    {
      "cell_type": "markdown",
      "source": [
        "## Ejercicio\n",
        "Con los conocimientos adquiridos construir un código que a partir de un número dado responda si este es par o impar.."
      ],
      "metadata": {
        "id": "nQPs53uf-FZ1"
      }
    },
    {
      "cell_type": "code",
      "source": [
        "# Escriba el código aquí"
      ],
      "metadata": {
        "id": "yC9hU8r5-JH2"
      },
      "execution_count": null,
      "outputs": []
    },
    {
      "cell_type": "code",
      "source": [
        "# Ejemplo de bucle for\n",
        "nums = [4, 78, 9, 84]\n",
        "for n in nums:\n",
        "    print(n)"
      ],
      "metadata": {
        "id": "MX9NYxQn-SbQ"
      },
      "execution_count": null,
      "outputs": []
    },
    {
      "cell_type": "code",
      "source": [
        "# Ejemplo de bucle while\n",
        "contador = 0\n",
        "while contador < 5:\n",
        "    print(\"Contador:\", contador)\n",
        "    contador += 1"
      ],
      "metadata": {
        "id": "jRt8VNbf-Y-3"
      },
      "execution_count": null,
      "outputs": []
    },
    {
      "cell_type": "markdown",
      "source": [
        "## Ejercicio\n",
        "Con los conocimientos adquiridos (bucles) construya un código tal que a partir de un número dado pueda saber si este es primo o no."
      ],
      "metadata": {
        "id": "BDgsVbBXE5gV"
      }
    },
    {
      "cell_type": "code",
      "source": [
        "# Escriba el código aquí"
      ],
      "metadata": {
        "id": "ss0pySu4E9Zy"
      },
      "execution_count": null,
      "outputs": []
    },
    {
      "cell_type": "markdown",
      "source": [
        "# 5. Creación de arrays en NumPy."
      ],
      "metadata": {
        "id": "LZV7HUZG-h7w"
      }
    },
    {
      "cell_type": "code",
      "source": [
        "import numpy as np\n",
        "\n",
        "# Creación de un array unidimensional\n",
        "arr1 = np.array([1, 2, 3, 4, 5])\n",
        "\n",
        "# Creación de un array bidimensional\n",
        "arr2 = np.array([[1, 2, 3], [4, 5, 6]])"
      ],
      "metadata": {
        "id": "Qjc_vsxh-jfx"
      },
      "execution_count": null,
      "outputs": []
    },
    {
      "cell_type": "code",
      "source": [
        "import numpy as np\n",
        "\n",
        "# Creación de un array con tipo de datos específico\n",
        "arr = np.array([1, 2, 3], dtype=np.float64)\n"
      ],
      "metadata": {
        "id": "cRCrR1_K--fG"
      },
      "execution_count": null,
      "outputs": []
    },
    {
      "cell_type": "markdown",
      "source": [
        "# 6. Operaciones básicas con arrays."
      ],
      "metadata": {
        "id": "TQsZ1lZABCJx"
      }
    },
    {
      "cell_type": "code",
      "source": [
        "# Acceso a elementos de un array\n",
        "arr = np.array([1, 2, 3, 4, 5])\n",
        "print(arr[0])  # Acceso al primer elemento"
      ],
      "metadata": {
        "id": "LfQE-MvoBBXq"
      },
      "execution_count": null,
      "outputs": []
    },
    {
      "cell_type": "code",
      "source": [
        "import numpy as np\n",
        "\n",
        "arr = np.array([1, 2, 3])\n",
        "\n",
        "# Operaciones vectorizadas\n",
        "print(arr + 1)  # Suma 1 a cada elemento del array ([2, 3, 4])\n",
        "print(arr * 2)  # Multiplica cada elemento por 2 ([2, 4, 6])\n"
      ],
      "metadata": {
        "id": "RNQmOqTLB1Lw"
      },
      "execution_count": null,
      "outputs": []
    },
    {
      "cell_type": "markdown",
      "source": [
        "# 7. Indexación y rebanado (slicing) en arrays."
      ],
      "metadata": {
        "id": "hPuNHd5XJh3g"
      }
    },
    {
      "cell_type": "code",
      "source": [
        "import numpy as np\n",
        "\n",
        "arr = np.array([1, 2, 3, 4, 5])\n",
        "\n",
        "# Acceso a un elemento individual\n",
        "print(arr[0])  # Imprime el primer elemento (1)\n",
        "\n",
        "# Rebanado (slicing) para acceder a subconjuntos de elementos\n",
        "print(arr[1:4])  # Imprime [2, 3, 4]\n"
      ],
      "metadata": {
        "id": "ZRldCAyBJeiv"
      },
      "execution_count": null,
      "outputs": []
    },
    {
      "cell_type": "markdown",
      "source": [
        "# 8. Manejo de arrays en dos dimensiones (Matrices)."
      ],
      "metadata": {
        "id": "dmL_q81oMmC0"
      }
    },
    {
      "cell_type": "code",
      "source": [
        "import numpy as np\n",
        "\n",
        "# Creación de una matriz\n",
        "matriz = np.array([[1, 2, 3], [4, 5, 6], [7, 8, 9]])\n"
      ],
      "metadata": {
        "id": "K-rJhOkhMlRn"
      },
      "execution_count": null,
      "outputs": []
    },
    {
      "cell_type": "code",
      "source": [
        "import numpy as np\n",
        "\n",
        "# matriz creada con np.zeros dimensión (nfilas, ncolumnas)\n",
        "dimensiones=(2,3)\n",
        "matriz_ceros = np.zeros(dimensiones)\n",
        "print(matriz_ceros)"
      ],
      "metadata": {
        "id": "VjYCcAIJNXoT"
      },
      "execution_count": null,
      "outputs": []
    },
    {
      "cell_type": "code",
      "source": [
        "import numpy as np\n",
        "\n",
        "# matriz creada con np.ones dimensión (nfilas, ncolumnas)\n",
        "dimensiones=(3,2)\n",
        "matriz_unos = np.ones(dimensiones)\n",
        "print(matriz_unos)"
      ],
      "metadata": {
        "id": "q2MUFhBeOPyP"
      },
      "execution_count": null,
      "outputs": []
    },
    {
      "cell_type": "code",
      "source": [
        "import numpy as np\n",
        "\n",
        "matriz = np.array([[1, 2, 3], [4, 5, 6], [7, 8, 9]])\n",
        "\n",
        "# Acceso a elementos individuales\n",
        "print(matriz[0, 0])  # Imprime el elemento en la fila 0, columna 0 (1)\n",
        "print(matriz[1, 2])  # Imprime el elemento en la fila 1, columna 2 (6)\n"
      ],
      "metadata": {
        "id": "FQ_MWnaXQIPT"
      },
      "execution_count": null,
      "outputs": []
    },
    {
      "cell_type": "code",
      "source": [
        "import numpy as np\n",
        "\n",
        "matriz1 = np.array([[1, 2], [3, 4]])\n",
        "matriz2 = np.array([[5, 6], [7, 8]])\n",
        "\n",
        "# Suma de matrices\n",
        "suma = matriz1 + matriz2\n",
        "\n",
        "# Resta de matrices\n",
        "resta = matriz1 - matriz2\n",
        "\n",
        "# Producto de matrices\n",
        "producto = matriz1.dot(matriz2)\n"
      ],
      "metadata": {
        "id": "otTn4fa4Shlx"
      },
      "execution_count": null,
      "outputs": []
    },
    {
      "cell_type": "code",
      "source": [
        "import numpy as np\n",
        "\n",
        "matriz = np.array([[1, 2, 3], [4, 5, 6], [7, 8, 9]])\n",
        "\n",
        "# Media de la matriz\n",
        "media = np.mean(matriz)\n",
        "\n",
        "# Desviación estándar a lo largo del eje 0\n",
        "desviacion_estandar = np.std(matriz, axis=0)\n",
        "\n",
        "# Valor máximo en la matriz\n",
        "maximo = np.max(matriz)\n",
        "\n",
        "# Valor mínimo a lo largo del eje 1\n",
        "minimo = np.min(matriz, axis=1)\n"
      ],
      "metadata": {
        "id": "PBez7wMZSwyl"
      },
      "execution_count": null,
      "outputs": []
    },
    {
      "cell_type": "markdown",
      "source": [
        "## Ejercicio\n",
        "\n",
        "De acuerdo con los conocimientos adquiridos construya una matriz de 5 filas y 5 columnas (5 x 5) que todos sus elementos sean igual a 0.5. Posterior a esto realice con esta matriz las siguientes operaciones:\n",
        "1. Multiplique la primera fila por 2\n",
        "2. Divida la fila 3 por 2\n",
        "3. Multiplique la columna 5 por 4\n",
        "4. Calcule la suma de los elementos de cada fila (esto debe generar un array de tamaño 5 donde cada elemento del array es la suma de la fila correspondiente).\n",
        "5. Calcule el valor máximo de cada columna."
      ],
      "metadata": {
        "id": "ccy6iw4yX3nc"
      }
    },
    {
      "cell_type": "code",
      "source": [
        "# Escriba el código aquí"
      ],
      "metadata": {
        "id": "DjoRYzrEX8VR"
      },
      "execution_count": null,
      "outputs": []
    }
  ]
}